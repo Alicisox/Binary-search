{
 "cells": [
  {
   "cell_type": "code",
   "execution_count": 2,
   "metadata": {},
   "outputs": [],
   "source": [
    "import pandas as pd"
   ]
  },
  {
   "cell_type": "code",
   "execution_count": 39,
   "metadata": {},
   "outputs": [],
   "source": [
    "def binary_search(items, value):\n",
    "    \"\"\" \n",
    "    Search value by Binary search\n",
    "    Using divide and conquer method: divide list and search for value\n",
    "    With run-time complexity of Ο(log n)\n",
    "    \n",
    "    Args:\n",
    "    items: list. The python list that contains only integer.\n",
    "    value: int. The number (int) that wants to search.\n",
    "    \n",
    "    \"\"\"\n",
    "    data = items.copy() # prevent item from changing\n",
    "    low = 0 # lower bound\n",
    "    high = len(item) # higher bound\n",
    "    while (True): # run till no value to compare\n",
    "        if low >= high: # a value does't exist\n",
    "            print(\"Not founded!\")\n",
    "            return\n",
    "        mid = round(low + (high-low-1)/2) # select mid from items\n",
    "        if item[mid] > value: # set higher bound \n",
    "            high = mid - 1\n",
    "        elif item[mid] < value: # set lower bound\n",
    "            low = mid + 1\n",
    "        else:\n",
    "            print(\"Founded!:\",value,)\n",
    "            return"
   ]
  },
  {
   "cell_type": "code",
   "execution_count": 41,
   "metadata": {},
   "outputs": [
    {
     "name": "stdout",
     "output_type": "stream",
     "text": [
      "Founded!: 3\n"
     ]
    }
   ],
   "source": [
    "# Test Binary-Search\n",
    "items = [1,2,3,4,5]\n",
    "binary_search(items, 3)"
   ]
  },
  {
   "cell_type": "code",
   "execution_count": null,
   "metadata": {},
   "outputs": [],
   "source": []
  }
 ],
 "metadata": {
  "kernelspec": {
   "display_name": "Python 3",
   "language": "python",
   "name": "python3"
  },
  "language_info": {
   "codemirror_mode": {
    "name": "ipython",
    "version": 3
   },
   "file_extension": ".py",
   "mimetype": "text/x-python",
   "name": "python",
   "nbconvert_exporter": "python",
   "pygments_lexer": "ipython3",
   "version": "3.8.5"
  }
 },
 "nbformat": 4,
 "nbformat_minor": 4
}
